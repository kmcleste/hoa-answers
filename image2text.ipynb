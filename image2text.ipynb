{
 "cells": [
  {
   "cell_type": "markdown",
   "metadata": {},
   "source": [
    "## Import Dependencies"
   ]
  },
  {
   "cell_type": "code",
   "execution_count": 49,
   "metadata": {},
   "outputs": [],
   "source": [
    "import pytesseract as pyt\n",
    "from PIL import Image\n",
    "from googletrans import Translator\n",
    "from pdf2image import convert_from_path\n",
    "import os\n",
    "import re"
   ]
  },
  {
   "cell_type": "markdown",
   "metadata": {},
   "source": [
    "## Convert PDF pages to Images"
   ]
  },
  {
   "cell_type": "code",
   "execution_count": 29,
   "metadata": {},
   "outputs": [],
   "source": [
    "pdf_path = 'hoa-rules.pdf'\n",
    "\n",
    "images = convert_from_path(pdf_path)\n",
    "\n",
    "for i in range(len(images)):\n",
    "    images[i].save(str(i)+'.png','PNG')"
   ]
  },
  {
   "cell_type": "code",
   "execution_count": 38,
   "metadata": {},
   "outputs": [],
   "source": [
    "files = []\n",
    "for dirpath, dirnames, filenames in os.walk('images'):\n",
    "    files.extend(filenames)"
   ]
  },
  {
   "cell_type": "code",
   "execution_count": null,
   "metadata": {},
   "outputs": [],
   "source": [
    "# sort filenames in ascending order\n",
    "files.sort(key=lambda f: int(re.sub('\\D', '', f)))"
   ]
  },
  {
   "cell_type": "markdown",
   "metadata": {},
   "source": [
    "## Convert Images to Text"
   ]
  },
  {
   "cell_type": "code",
   "execution_count": 50,
   "metadata": {},
   "outputs": [],
   "source": [
    "for idx, file in enumerate(files):\n",
    "    img = Image.open('images/'+file)\n",
    "    result = pyt.image_to_string(img)\n",
    "    with open(str(idx)+'.txt', mode='w') as file:\n",
    "        file.write(result)"
   ]
  },
  {
   "cell_type": "markdown",
   "metadata": {},
   "source": [
    "## Convert Text Files to Single File"
   ]
  },
  {
   "cell_type": "code",
   "execution_count": 51,
   "metadata": {},
   "outputs": [],
   "source": [
    "import glob\n",
    "\n",
    "read_files = glob.glob(\"text/*.txt\")\n",
    "\n",
    "with open('result.txt', 'wb') as outfile:\n",
    "    for f in read_files:\n",
    "        with open(f, 'rb') as infile:\n",
    "            outfile.write(infile.read())"
   ]
  },
  {
   "cell_type": "markdown",
   "metadata": {},
   "source": [
    "## Convert to JSONL"
   ]
  },
  {
   "cell_type": "code",
   "execution_count": 52,
   "metadata": {},
   "outputs": [],
   "source": [
    "import json\n",
    "\n",
    "# Generate a list of dictionaries\n",
    "lines = []\n",
    "with open(\"result.txt\", encoding=\"utf8\") as f:\n",
    "    for line in f.read().splitlines():\n",
    "        if line:\n",
    "            lines.append({\"text\": line})\n",
    "\n",
    "# Convert to a list of JSON strings\n",
    "json_lines = [json.dumps(l) for l in lines]\n",
    "\n",
    "# Join lines and save to .jsonl file\n",
    "json_data = '\\n'.join(json_lines)\n",
    "with open('hoa-dataset.jsonl', 'w') as f:\n",
    "    f.write(json_data)"
   ]
  },
  {
   "cell_type": "code",
   "execution_count": null,
   "metadata": {},
   "outputs": [],
   "source": []
  }
 ],
 "metadata": {
  "interpreter": {
   "hash": "8a07e62cf5fd36464758d31e9df57b449e08203c3413d7dfc7f38c8eec099253"
  },
  "kernelspec": {
   "display_name": "Python 3.8.5 ('hoa-topics': venv)",
   "language": "python",
   "name": "python3"
  },
  "language_info": {
   "codemirror_mode": {
    "name": "ipython",
    "version": 3
   },
   "file_extension": ".py",
   "mimetype": "text/x-python",
   "name": "python",
   "nbconvert_exporter": "python",
   "pygments_lexer": "ipython3",
   "version": "3.8.5"
  },
  "orig_nbformat": 4
 },
 "nbformat": 4,
 "nbformat_minor": 2
}
